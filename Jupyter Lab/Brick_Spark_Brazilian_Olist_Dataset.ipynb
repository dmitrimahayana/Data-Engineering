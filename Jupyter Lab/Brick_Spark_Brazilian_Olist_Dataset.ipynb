{
 "cells": [
  {
   "cell_type": "markdown",
   "id": "fee4eb27-8ada-437e-8816-a81473d56f3f",
   "metadata": {},
   "source": [
    "## Load All Dataset"
   ]
  },
  {
   "cell_type": "code",
   "execution_count": 1,
   "id": "c583d48f-bbc3-4b6c-92f3-536ed9be1843",
   "metadata": {},
   "outputs": [],
   "source": [
    "from pyspark.sql import SparkSession\n",
    "from CustomLib.Config import postgres_config\n",
    "from pyspark.sql.functions import col, when, lit, expr, unix_timestamp, to_timestamp"
   ]
  },
  {
   "cell_type": "code",
   "execution_count": 2,
   "id": "19beb8b5-9834-462d-ab04-e8f4d7e7f00c",
   "metadata": {},
   "outputs": [],
   "source": [
    "# Initialize Spark Session\n",
    "sparkMaster = 'local[*]'\n",
    "sparkAppName = 'Py-Brick_Brazilian_Olist_Dataset'\n",
    "spark = SparkSession \\\n",
    "    .builder \\\n",
    "    .master(sparkMaster) \\\n",
    "    .appName(sparkAppName) \\\n",
    "    .config(\"spark.jars\", \"./jdbc/postgresql-42.6.0.jar\") \\\n",
    "    .config(\"spark.jars.packages\",\"io.delta:delta-core_2.12:2.4.0\") \\\n",
    "    .config(\"spark.sql.extensions\", \"io.delta.sql.DeltaSparkSessionExtension\") \\\n",
    "    .config(\"spark.sql.catalog.spark_catalog\", \"org.apache.spark.sql.delta.catalog.DeltaCatalog\") \\\n",
    "    .getOrCreate()"
   ]
  },
  {
   "cell_type": "code",
   "execution_count": 3,
   "id": "572d49c1-51b3-413b-9406-094b753477f6",
   "metadata": {},
   "outputs": [],
   "source": [
    "def LoadAllDataset():\n",
    "    dataset_folderpath = \"D:/00 Project/00 My Project/Dataset/Brazilian_Olist/\"\n",
    "    options = {\n",
    "        \"inferSchema\": \"true\",\n",
    "        \"delimiter\": \",\",\n",
    "        \"header\": \"true\"\n",
    "    }\n",
    "    df_order_items = spark.read.options(**options).csv(dataset_folderpath +  \"1_olist_order_items_dataset.csv\")\n",
    "    df_order_payments = spark.read.options(**options).csv(dataset_folderpath + \"2_olist_order_payments_dataset.csv\")\n",
    "    df_orders = spark.read.options(**options).csv(dataset_folderpath + \"3_olist_orders_dataset.csv\")\n",
    "    df_products = spark.read.options(**options).csv(dataset_folderpath + \"4_olist_products_dataset.csv\")\n",
    "    df_sellers = spark.read.options(**options).csv(dataset_folderpath + \"5_olist_sellers_dataset.csv\")\n",
    "    return df_order_items, df_order_payments, df_orders, df_products, df_sellers\n",
    "\n",
    "df_order_items, df_order_payments, df_orders, df_products, df_sellers = LoadAllDataset()"
   ]
  },
  {
   "cell_type": "code",
   "execution_count": 4,
   "id": "c3878676-c011-4b17-95ef-61390d0ae782",
   "metadata": {},
   "outputs": [
    {
     "name": "stdout",
     "output_type": "stream",
     "text": [
      "<bound method DataFrame.printSchema of DataFrame[order_id: string, order_item_id: int, product_id: string, seller_id: string, shipping_limit_date: timestamp, price: double, freight_value: double]>\n",
      "Lenght:  112650\n"
     ]
    }
   ],
   "source": [
    "print(df_order_items.printSchema)\n",
    "print(\"Lenght: \", df_order_items.count())"
   ]
  },
  {
   "cell_type": "code",
   "execution_count": 5,
   "id": "4329cf40-5ce3-42d5-b56b-8dd4cb18915b",
   "metadata": {},
   "outputs": [
    {
     "name": "stdout",
     "output_type": "stream",
     "text": [
      "<bound method DataFrame.printSchema of DataFrame[order_id: string, payment_sequential: int, payment_type: string, payment_installments: int, payment_value: double]>\n",
      "Lenght:  103886\n"
     ]
    }
   ],
   "source": [
    "print(df_order_payments.printSchema)\n",
    "print(\"Lenght: \", df_order_payments.count())"
   ]
  },
  {
   "cell_type": "code",
   "execution_count": 6,
   "id": "91f5fc26-ffe8-441a-9b89-08ad314a9deb",
   "metadata": {},
   "outputs": [
    {
     "name": "stdout",
     "output_type": "stream",
     "text": [
      "<bound method DataFrame.printSchema of DataFrame[order_id: string, customer_id: string, order_status: string, order_purchase_timestamp: timestamp, order_approved_at: timestamp, order_delivered_carrier_date: timestamp, order_delivered_customer_date: timestamp, order_estimated_delivery_date: timestamp]>\n",
      "Lenght:  99441\n"
     ]
    }
   ],
   "source": [
    "print(df_orders.printSchema)\n",
    "print(\"Lenght: \", df_orders.count())"
   ]
  },
  {
   "cell_type": "code",
   "execution_count": 7,
   "id": "51bdc06b-dd36-4440-9718-2e266cf02eb3",
   "metadata": {},
   "outputs": [
    {
     "name": "stdout",
     "output_type": "stream",
     "text": [
      "<bound method DataFrame.printSchema of DataFrame[product_id: string, product_category_name: string, product_name_lenght: int, product_description_lenght: int, product_photos_qty: int, product_weight_g: int, product_length_cm: int, product_height_cm: int, product_width_cm: int]>\n",
      "Lenght:  32951\n"
     ]
    }
   ],
   "source": [
    "print(df_products.printSchema)\n",
    "print(\"Lenght: \", df_products.count())"
   ]
  },
  {
   "cell_type": "code",
   "execution_count": 8,
   "id": "15c66b83-6bd2-464b-bfe5-d99598a7d074",
   "metadata": {},
   "outputs": [
    {
     "name": "stdout",
     "output_type": "stream",
     "text": [
      "<bound method DataFrame.printSchema of DataFrame[seller_id: string, seller_zip_code_prefix: int, seller_city: string, seller_state: string]>\n",
      "Lenght:  3095\n"
     ]
    }
   ],
   "source": [
    "print(df_sellers.printSchema)\n",
    "print(\"Lenght: \", df_sellers.count())"
   ]
  },
  {
   "cell_type": "markdown",
   "id": "a1d1c78d-05e1-4ed4-a88c-581866e33766",
   "metadata": {},
   "source": [
    "## Save into Data Lake"
   ]
  },
  {
   "cell_type": "code",
   "execution_count": 11,
   "id": "1bf29096-0e22-49b7-8d06-425436bc24bb",
   "metadata": {},
   "outputs": [],
   "source": [
    "df_order_items.filter(df_order_items.price < 100).write.format(\"delta\").mode(\"overwrite\").save(\"./delta_lake/spark_order_items\")\n",
    "# df_order_payments.write.format(\"delta\").mode(\"overwrite\").save(\"./delta_lake/spark_order_payments\")\n",
    "# df_orders.write.format(\"delta\").mode(\"overwrite\").save(\"./delta_lake/spark_orders\")\n",
    "# df_products.write.format(\"delta\").mode(\"overwrite\").save(\"./delta_lake/spark_products\")\n",
    "# df_sellers.write.format(\"delta\").mode(\"overwrite\").save(\"./delta_lake/spark_sellers\")"
   ]
  },
  {
   "cell_type": "markdown",
   "id": "8e297cdc-6c93-4099-bc2d-e4775c3fa65e",
   "metadata": {},
   "source": [
    "## Read from Data Lake"
   ]
  },
  {
   "cell_type": "code",
   "execution_count": 12,
   "id": "c033c679-ca29-48f7-97b1-66e84a2cf244",
   "metadata": {},
   "outputs": [
    {
     "name": "stdout",
     "output_type": "stream",
     "text": [
      "Lenght:  72165\n",
      "+--------------------+-------------+--------------------+--------------------+-------------------+-----+-------------+\n",
      "|            order_id|order_item_id|          product_id|           seller_id|shipping_limit_date|price|freight_value|\n",
      "+--------------------+-------------+--------------------+--------------------+-------------------+-----+-------------+\n",
      "|cfea2c141cacb975b...|            1|7d018f8e4f93213ba...|3d871de0142ce09b7...|2017-11-17 15:50:36| 19.9|        25.63|\n",
      "|cfea8d218fdcd01ec...|            1|73326828aa5efe1ba...|d13e50eaa47b4cbe9...|2018-08-21 02:10:08| 81.9|         8.73|\n",
      "|cfead345fd3958937...|            1|2e830c73f28d3b854...|8b321bb669392f516...|2018-04-19 12:55:44| 11.6|         7.39|\n",
      "+--------------------+-------------+--------------------+--------------------+-------------------+-----+-------------+\n",
      "only showing top 3 rows\n",
      "\n",
      "None\n"
     ]
    }
   ],
   "source": [
    "df_order_items_2 = spark.read.format(\"delta\").load(\"./delta_lake/spark_order_items\")\n",
    "print(\"Lenght: \", df_order_items_2.count())\n",
    "print(df_order_items_2.show(3))"
   ]
  },
  {
   "cell_type": "markdown",
   "id": "66692f6e-ac46-4a2a-ba72-eb6c5801482c",
   "metadata": {},
   "source": [
    "## Insert Data into PostgreSQL"
   ]
  },
  {
   "cell_type": "code",
   "execution_count": 121,
   "id": "85396468-f7e1-44bb-b284-8e6aba539b8e",
   "metadata": {},
   "outputs": [],
   "source": [
    "def add_data_postgres(df, table_name):\n",
    "    # conn_string = f'postgresql://{postgres_config[\"username\"]}:{postgres_config[\"password\"]}@{postgres_config[\"hostname\"]}:{postgres_config[\"port\"]}/{postgres_config[\"database\"]}'\n",
    "    \n",
    "    database_url = f'jdbc:postgresql://{postgres_config[\"hostname\"]}:{postgres_config[\"port\"]}/{postgres_config[\"database\"]}'\n",
    "    table_name = f'\"{postgres_config[\"schema\"]}\".{table_name}'\n",
    "    properties = {\n",
    "        \"user\": postgres_config[\"username\"],\n",
    "        \"password\": postgres_config[\"password\"],\n",
    "        \"driver\": \"org.postgresql.Driver\"\n",
    "    }\n",
    "    df.write \\\n",
    "    .jdbc(url=database_url, table=table_name, mode=\"overwrite\", properties=properties)\n",
    "\n",
    "add_data_postgres(df_order_items, \"spark_order_items\")\n",
    "add_data_postgres(df_order_payments, \"spark_order_payments\")\n",
    "add_data_postgres(df_orders, \"spark_orders\")\n",
    "add_data_postgres(df_products, \"spark_products\")\n",
    "add_data_postgres(df_sellers, \"spark_sellers\")"
   ]
  },
  {
   "cell_type": "markdown",
   "id": "20a92a1f-132b-4fd0-9471-5e8fbbb616ac",
   "metadata": {},
   "source": [
    "## Read Data from PostgreSQL"
   ]
  },
  {
   "cell_type": "code",
   "execution_count": 55,
   "id": "39719819-73aa-4b7b-9808-d0f5be67c3f3",
   "metadata": {},
   "outputs": [],
   "source": [
    "database_url = f'jdbc:postgresql://{postgres_config[\"hostname\"]}:{postgres_config[\"port\"]}/{postgres_config[\"database\"]}'\n",
    "\n",
    "df_orders = spark.read.format(\"jdbc\").option(\"url\", database_url) \\\n",
    "    .option(\"driver\", \"org.postgresql.Driver\").option(\"dbtable\", f'\"{postgres_config[\"schema\"]}\".spark_orders') \\\n",
    "    .option(\"user\", postgres_config[\"username\"]).option(\"password\", postgres_config[\"password\"]).load()\n",
    "df_order_payments = spark.read.format(\"jdbc\").option(\"url\", database_url) \\\n",
    "    .option(\"driver\", \"org.postgresql.Driver\").option(\"dbtable\", f'\"{postgres_config[\"schema\"]}\".spark_order_payments') \\\n",
    "    .option(\"user\", postgres_config[\"username\"]).option(\"password\", postgres_config[\"password\"]).load()\n",
    "df_order_items = spark.read.format(\"jdbc\").option(\"url\", database_url) \\\n",
    "    .option(\"driver\", \"org.postgresql.Driver\").option(\"dbtable\", f'\"{postgres_config[\"schema\"]}\".spark_order_items') \\\n",
    "    .option(\"user\", postgres_config[\"username\"]).option(\"password\", postgres_config[\"password\"]).load()\n",
    "df_products = spark.read.format(\"jdbc\").option(\"url\", database_url) \\\n",
    "    .option(\"driver\", \"org.postgresql.Driver\").option(\"dbtable\", f'\"{postgres_config[\"schema\"]}\".spark_products') \\\n",
    "    .option(\"user\", postgres_config[\"username\"]).option(\"password\", postgres_config[\"password\"]).load()\n",
    "df_sellers = spark.read.format(\"jdbc\").option(\"url\", database_url) \\\n",
    "    .option(\"driver\", \"org.postgresql.Driver\").option(\"dbtable\", f'\"{postgres_config[\"schema\"]}\".spark_sellers') \\\n",
    "    .option(\"user\", postgres_config[\"username\"]).option(\"password\", postgres_config[\"password\"]).load()\n",
    "\n",
    "df_orders.createOrReplaceTempView(\"spark_orders\")\n",
    "df_order_payments.createOrReplaceTempView(\"spark_order_payments\")\n",
    "df_order_items.createOrReplaceTempView(\"spark_order_items\")\n",
    "df_products.createOrReplaceTempView(\"spark_products\")\n",
    "df_sellers.createOrReplaceTempView(\"spark_sellers\")"
   ]
  },
  {
   "cell_type": "code",
   "execution_count": 14,
   "id": "c33bcc53-68f4-4423-8cd5-aca94483961e",
   "metadata": {},
   "outputs": [
    {
     "name": "stdout",
     "output_type": "stream",
     "text": [
      "+--------------------+--------------------+------------+------------------------+-------------------+----------------------------+-----------------------------+-----------------------------+\n",
      "|            order_id|         customer_id|order_status|order_purchase_timestamp|  order_approved_at|order_delivered_carrier_date|order_delivered_customer_date|order_estimated_delivery_date|\n",
      "+--------------------+--------------------+------------+------------------------+-------------------+----------------------------+-----------------------------+-----------------------------+\n",
      "|d9eabc69f974b3d08...|d4be0795e8fa7ea79...|   delivered|     2018-03-21 19:32:50|2018-03-21 19:48:04|         2018-03-22 19:48:46|          2018-03-28 18:56:52|          2018-04-13 00:00:00|\n",
      "|c9fbf88f9c58364e0...|7ec5b53960d508118...|   delivered|     2018-02-05 16:47:14|2018-02-05 17:16:09|         2018-02-07 15:04:45|          2018-02-20 19:59:00|          2018-03-12 00:00:00|\n",
      "|fd01a48a7d75383a3...|014f2d069b53eec84...|   delivered|     2017-08-18 14:17:44|2017-08-18 14:35:12|         2017-08-25 15:32:02|          2017-08-28 17:04:11|          2017-08-31 00:00:00|\n",
      "|6d4616de4341417e1...|adc1b0d30fe2b52bd...|   delivered|     2017-04-15 11:46:19|2017-04-15 12:02:55|         2017-04-19 08:18:54|          2017-05-05 15:56:20|          2017-05-24 00:00:00|\n",
      "|c606769bddf9fb8b9...|a4b29e455132615d4...|   delivered|     2017-06-15 13:17:07|2017-06-17 03:45:11|         2017-06-20 10:54:02|          2017-06-23 13:14:54|          2017-07-10 00:00:00|\n",
      "+--------------------+--------------------+------------+------------------------+-------------------+----------------------------+-----------------------------+-----------------------------+\n",
      "only showing top 5 rows\n",
      "\n"
     ]
    }
   ],
   "source": [
    "df_orders.show(5)"
   ]
  },
  {
   "cell_type": "code",
   "execution_count": 15,
   "id": "983c1876-6a3d-4668-a08c-c570de0ecafc",
   "metadata": {},
   "outputs": [
    {
     "name": "stdout",
     "output_type": "stream",
     "text": [
      "+--------------------+------------------+------------+--------------------+-------------+\n",
      "|            order_id|payment_sequential|payment_type|payment_installments|payment_value|\n",
      "+--------------------+------------------+------------+--------------------+-------------+\n",
      "|e558bf8bb8fddae94...|                 1| credit_card|                   1|       371.13|\n",
      "|2095778434755b568...|                 1| credit_card|                   2|        55.11|\n",
      "|5c1995c020e0a3b2b...|                 1| credit_card|                   1|        165.8|\n",
      "|ab459ccd2e24ef6d6...|                 1|      boleto|                   1|       188.62|\n",
      "|9b3d13c2644e10e20...|                 1| credit_card|                   5|        65.71|\n",
      "+--------------------+------------------+------------+--------------------+-------------+\n",
      "only showing top 5 rows\n",
      "\n"
     ]
    }
   ],
   "source": [
    "df_order_payments.show(5)"
   ]
  },
  {
   "cell_type": "code",
   "execution_count": 16,
   "id": "a69a0c66-6428-46a2-86ab-b212e08afbb0",
   "metadata": {},
   "outputs": [
    {
     "name": "stdout",
     "output_type": "stream",
     "text": [
      "+--------------------+-------------+--------------------+--------------------+-------------------+------+-------------+\n",
      "|            order_id|order_item_id|          product_id|           seller_id|shipping_limit_date| price|freight_value|\n",
      "+--------------------+-------------+--------------------+--------------------+-------------------+------+-------------+\n",
      "|45193dbb3e96a6b68...|            2|a52c53c58fd2105ad...|3b15288545f8928d3...|2017-10-02 16:15:08|106.99|        17.25|\n",
      "|4519ce49b67354e83...|            1|e09134e776e503444...|6fd52c528dcb38be2...|2018-05-02 02:15:20|129.89|         9.26|\n",
      "|4519d054994236d26...|            1|e7a7e6b2b4959a39a...|2e90cb1677d35cfe2...|2017-04-18 02:45:21| 18.16|        14.52|\n",
      "|4519e07ee266cdb76...|            1|9a29b754b7fc0aa8e...|0bf0150d5b9d60d9c...|2017-11-30 17:20:33| 106.0|        20.23|\n",
      "|4519eb4d4f3192015...|            1|fde71f25e699ca0a2...|bc2ac6b95e1accce9...|2017-08-25 19:25:17|  61.0|         9.34|\n",
      "+--------------------+-------------+--------------------+--------------------+-------------------+------+-------------+\n",
      "only showing top 5 rows\n",
      "\n"
     ]
    }
   ],
   "source": [
    "df_order_items.show(5)"
   ]
  },
  {
   "cell_type": "code",
   "execution_count": 17,
   "id": "35ae95b1-9d7c-4b2e-af8b-bf2722ab5b65",
   "metadata": {},
   "outputs": [
    {
     "name": "stdout",
     "output_type": "stream",
     "text": [
      "+--------------------+---------------------+-------------------+--------------------------+------------------+----------------+-----------------+-----------------+----------------+\n",
      "|          product_id|product_category_name|product_name_lenght|product_description_lenght|product_photos_qty|product_weight_g|product_length_cm|product_height_cm|product_width_cm|\n",
      "+--------------------+---------------------+-------------------+--------------------------+------------------+----------------+-----------------+-----------------+----------------+\n",
      "|1e9e8ef04dbcff454...|           perfumaria|                 40|                       287|                 1|             225|               16|               10|              14|\n",
      "|3aa071139cb16b67c...|                artes|                 44|                       276|                 1|            1000|               30|               18|              20|\n",
      "|96bd76ec8810374ed...|        esporte_lazer|                 46|                       250|                 1|             154|               18|                9|              15|\n",
      "|cef67bcfe19066a93...|                bebes|                 27|                       261|                 1|             371|               26|                4|              26|\n",
      "|9dc1a7de274444849...| utilidades_domest...|                 37|                       402|                 4|             625|               20|               17|              13|\n",
      "+--------------------+---------------------+-------------------+--------------------------+------------------+----------------+-----------------+-----------------+----------------+\n",
      "only showing top 5 rows\n",
      "\n"
     ]
    }
   ],
   "source": [
    "df_products.show(5)"
   ]
  },
  {
   "cell_type": "code",
   "execution_count": 18,
   "id": "0d8113a9-84b5-45d9-8417-29a7b8105459",
   "metadata": {},
   "outputs": [
    {
     "name": "stdout",
     "output_type": "stream",
     "text": [
      "+--------------------+----------------------+-----------------+------------+\n",
      "|           seller_id|seller_zip_code_prefix|      seller_city|seller_state|\n",
      "+--------------------+----------------------+-----------------+------------+\n",
      "|3442f8959a84dea7e...|                 13023|         campinas|          SP|\n",
      "|d1b65fc7debc3361e...|                 13844|       mogi guacu|          SP|\n",
      "|ce3ad9de960102d06...|                 20031|   rio de janeiro|          RJ|\n",
      "|c0f3eea2e14555b6f...|                  4195|        sao paulo|          SP|\n",
      "|51a04a8a6bdcb23de...|                 12914|braganca paulista|          SP|\n",
      "+--------------------+----------------------+-----------------+------------+\n",
      "only showing top 5 rows\n",
      "\n"
     ]
    }
   ],
   "source": [
    "df_sellers.show(5)"
   ]
  },
  {
   "cell_type": "markdown",
   "id": "e6522800-1c05-46b3-b0d5-bd117bedb891",
   "metadata": {},
   "source": [
    "## Data Manipulation"
   ]
  },
  {
   "cell_type": "code",
   "execution_count": 19,
   "id": "92d912db-9929-4057-95b2-ba0e331d9714",
   "metadata": {},
   "outputs": [
    {
     "name": "stdout",
     "output_type": "stream",
     "text": [
      "+--------------------+--------------------+------------+------------------+-------------+------------------+-----+-------------+----+--------------+\n",
      "|         customer_id|            order_id|payment_type|payment_sequential|payment_value|last_order_item_id|price|freight_value|cost|payment_status|\n",
      "+--------------------+--------------------+------------+------------------+-------------+------------------+-----+-------------+----+--------------+\n",
      "|e13a5ed086aacc9b2...|051fcda88d997d3ff...| credit_card|                 1|           52|                 1| 49.0|          7.6|  57|     underpaid|\n",
      "|198b639c2da0e7f71...|0e556f5eafbf3eb39...| credit_card|                 1|           82|                 2| 49.8|        45.86|  96|     underpaid|\n",
      "|2a69da30b726b7f3d...|262118ce178bb3e45...| credit_card|                 1|          126|                 2|119.8|        57.94| 178|     underpaid|\n",
      "|02ae654741ad89536...|320dcf288de15e4ff...| credit_card|                 1|           81|                 2| 61.8|        25.75|  88|     underpaid|\n",
      "|90ce0548c953a2505...|4154bf1348caac781...| credit_card|                 1|          150|                 1|149.9|        15.36| 165|     underpaid|\n",
      "+--------------------+--------------------+------------+------------------+-------------+------------------+-----+-------------+----+--------------+\n",
      "only showing top 5 rows\n",
      "\n"
     ]
    }
   ],
   "source": [
    "## Get Settlement Status\n",
    "df_settlement_status = spark.sql(\"\"\"\n",
    "SELECT \n",
    "\tso.customer_id,\n",
    "\tfinall.*\n",
    "FROM (\n",
    "\tSELECT *,\n",
    "\t\tCASE\n",
    "\t\t     WHEN pr.payment_value = pr.cost\n",
    "\t\t          THEN 'settled'\n",
    "\t\t     WHEN pr.payment_value < pr.cost\n",
    "\t\t          THEN 'underpaid'\n",
    "\t\t     WHEN pr.payment_value > pr.cost\n",
    "\t\t          THEN 'overpaid'\n",
    "\t\t END payment_status\n",
    "\tFROM (\n",
    "\t\tSELECT \n",
    "\t\t\tsop.order_id, \n",
    "\t\t\tsop.payment_type,\n",
    "\t\t\tsop.payment_sequential,\n",
    "\t\t\tROUND(CAST(sop.payment_value as NUMERIC), 0) AS payment_value,\n",
    "\t\t\tsoi.last_order_item_id,\n",
    "\t\t\tsoi.price, \n",
    "\t\t\tsoi.freight_value,\n",
    "\t\t\tROUND(CAST(cost as NUMERIC), 0) AS cost\n",
    "\t\tFROM (\n",
    "\t\t\tSELECT \n",
    "\t\t\t\torder_id, \n",
    "\t\t\t\tMAX(payment_type) AS payment_type, \n",
    "\t\t\t\tMAX(payment_sequential) AS payment_sequential,\n",
    "\t\t\t\tSUM(payment_value) AS payment_value\n",
    "\t\t\tFROM spark_order_payments\n",
    "\t\t\tGROUP BY order_id\n",
    "\t\t) sop\n",
    "\t\tINNER JOIN (\n",
    "\t\t\tSELECT\n",
    "\t\t\t\torder_id, MAX(order_item_id) AS last_order_item_id, \n",
    "\t\t\t\tSUM(price) AS price, \n",
    "\t\t\t\tSUM(freight_value) AS freight_value, \n",
    "\t\t\t\tSUM(price) + SUM(freight_value) AS cost\n",
    "\t\t\tFROM spark_order_items\n",
    "\t\t\tGROUP BY order_id\n",
    "\t\t) soi\n",
    "\t\tON sop.order_id = soi.order_id\n",
    "\t) pr\n",
    ") finall\n",
    "INNER JOIN spark_orders so\n",
    "ON so.order_id = finall.order_id\n",
    "WHERE \n",
    "\tpayment_status != 'settled' AND \n",
    "\tpayment_status = 'underpaid'\n",
    "ORDER BY order_id, payment_sequential\n",
    "\"\"\")\n",
    "\n",
    "df_settlement_status.show(5)"
   ]
  },
  {
   "cell_type": "code",
   "execution_count": 20,
   "id": "501d2c9e-f98d-44b0-8692-4bed89028342",
   "metadata": {},
   "outputs": [
    {
     "name": "stdout",
     "output_type": "stream",
     "text": [
      "+--------------------+--------------------+---------------------+--------------------+-----------+------------------+-------------------+\n",
      "|          product_id|           seller_id|product_category_name|         seller_city|sold_number|sold_rank_perworld|sold_rank_perseller|\n",
      "+--------------------+--------------------+---------------------+--------------------+-----------+------------------+-------------------+\n",
      "|aca2eb7d00ea1a7b8...|955fee9216a65b617...|     moveis_decoracao|           sao paulo|        527|                 1|                  1|\n",
      "|422879e10f4668299...|1f50f920176fa81da...|   ferramentas_jardim|sao jose do rio p...|        484|                 2|                  1|\n",
      "|99a4788cb24856965...|4a3ca9315b744ce9f...|      cama_mesa_banho|            ibitinga|        482|                 3|                  1|\n",
      "|389d119b48cf3043d...|1f50f920176fa81da...|   ferramentas_jardim|sao jose do rio p...|        392|                 4|                  2|\n",
      "|368c6c730842d7801...|1f50f920176fa81da...|   ferramentas_jardim|sao jose do rio p...|        388|                 5|                  3|\n",
      "+--------------------+--------------------+---------------------+--------------------+-----------+------------------+-------------------+\n",
      "only showing top 5 rows\n",
      "\n"
     ]
    }
   ],
   "source": [
    "## Get Most Sold Products\n",
    "df_most_sold_product = spark.sql(\"\"\"\n",
    "SELECT *,\n",
    "\tDENSE_RANK () OVER (\n",
    "\t\tORDER BY sold_number DESC\n",
    "\t) sold_rank_perworld,\n",
    "\tDENSE_RANK () OVER (\n",
    "\t\tPARTITION BY seller_id\n",
    "\t\tORDER BY sold_number DESC\n",
    "\t) sold_rank_perseller\n",
    "\tFROM (\n",
    "\tSELECT si.product_id, si.seller_id, spr.product_category_name, sse.seller_city, COUNT(si.product_id) AS sold_number\n",
    "\tFROM spark_order_items si\n",
    "\tINNER JOIN spark_products spr\n",
    "\tON si.product_id = spr.product_id\n",
    "\tINNER JOIN spark_sellers sse\n",
    "\tON si.seller_id = sse.seller_id\n",
    "\tGROUP BY si.product_id, si.seller_id, product_category_name, seller_city\n",
    "\tORDER BY sold_number DESC\n",
    ") sold_prod\n",
    "ORDER BY sold_number DESC, sold_rank_perworld ASC\n",
    "\"\"\")\n",
    "\n",
    "df_most_sold_product.show(5)"
   ]
  },
  {
   "cell_type": "code",
   "execution_count": 21,
   "id": "ed4a6494-4c77-44fa-bc9a-5951d5240f9b",
   "metadata": {},
   "outputs": [
    {
     "name": "stdout",
     "output_type": "stream",
     "text": [
      "+--------------------+--------------------+-------------------+-----+-------------+----+--------------------+------------+----------------------------+------------------+--------------+\n",
      "|            order_id|           seller_id|shipping_limit_date|price|freight_value|cost|         customer_id|order_status|order_delivered_carrier_date|delayed_duration_s|delayed_status|\n",
      "+--------------------+--------------------+-------------------+-----+-------------+----+--------------------+------------+----------------------------+------------------+--------------+\n",
      "|00018f77f2f0320c5...|dd7ddc04e1b6c2c61...|2017-05-03 11:05:13|239.9|        19.93| 260|f6dd3ec061db4e398...|   delivered|         2017-05-04 14:35:00|             98987|       Delayed|\n",
      "|0094bd07f49fed902...|5670f4db5b62c43d5...|2018-05-09 04:12:53|11.53|         7.39|  19|de0c1a4d8c367c58d...|   delivered|         2018-05-10 19:19:00|            140767|       Delayed|\n",
      "|00995d799817ecc3b...|620c87c171fb2a6dd...|2018-08-01 11:45:13| 49.9|        12.92|  63|266636baec3cfa8d8...|   delivered|         2018-08-01 14:05:00|              8387|       Delayed|\n",
      "|00ab210695a17fe10...|4c2b230173bb36f9b...|2018-06-18 06:30:53| 39.0|         7.53|  47|c87e0e6aa4b3321ad...|   delivered|         2018-06-18 11:01:00|             16207|       Delayed|\n",
      "|00d03eb3425f41a59...|70a12e78e608ac311...|2017-02-22 16:46:42| 69.0|        21.17|  90|457e255722e958032...|   delivered|         2017-02-24 14:16:35|            163793|       Delayed|\n",
      "+--------------------+--------------------+-------------------+-----+-------------+----+--------------------+------------+----------------------------+------------------+--------------+\n",
      "only showing top 5 rows\n",
      "\n"
     ]
    }
   ],
   "source": [
    "df_delayed_shipping = spark.sql(\"\"\"\n",
    "SELECT \n",
    "\tcost_tbl.*,\n",
    "\tcustomer_id,\n",
    "\torder_status,\n",
    "\torder_delivered_carrier_date\n",
    "FROM (\n",
    "\tSELECT\n",
    "\t\torder_id,\n",
    "\t\tseller_id,\n",
    "\t\tshipping_limit_date,\n",
    "\t\tSUM(price) AS price, \n",
    "\t\tSUM(freight_value) AS freight_value, \n",
    "\t\tROUND(CAST(SUM(price) + SUM(freight_value) AS NUMERIC), 0) AS cost\n",
    "\tFROM spark_order_items\n",
    "\tGROUP BY order_id, seller_id, shipping_limit_date\n",
    ") cost_tbl\n",
    "INNER JOIN spark_orders so\n",
    "ON so.order_id = cost_tbl.order_id\n",
    "WHERE so.order_delivered_carrier_date IS NOT NULL\n",
    "\"\"\")\n",
    "\n",
    "df_delayed_shipping.unpersist()\n",
    "df_delayed_shipping = df_delayed_shipping \\\n",
    "    .withColumn(\"delayed_duration_s\", unix_timestamp(\"order_delivered_carrier_date\") - unix_timestamp(\"shipping_limit_date\")) \\\n",
    "    .withColumn(\"delayed_status\", expr(\"CASE WHEN delayed_duration_s > 0 THEN 'Delayed' ELSE 'On Time' END\"))\n",
    "    # .withColumn(\"order_delivered_carrier_date\", to_timestamp(col(\"order_delivered_carrier_date\"))) \\\n",
    "    # .withColumn(\"shipping_limit_date\", to_timestamp(col(\"shipping_limit_date\"))) \\\n",
    "df_delayed_shipping = df_delayed_shipping.filter(df_delayed_shipping.delayed_duration_s > 0)\n",
    "df_delayed_shipping.show(5)"
   ]
  },
  {
   "cell_type": "code",
   "execution_count": 22,
   "id": "8ea7e37f-7273-457f-8afb-fe99aec019e8",
   "metadata": {},
   "outputs": [
    {
     "name": "stdout",
     "output_type": "stream",
     "text": [
      "+--------------------+-----------------+----------------+\n",
      "|         customer_id|count_transaction|transactions_amt|\n",
      "+--------------------+-----------------+----------------+\n",
      "|9af2372a1e4934027...|               29|             458|\n",
      "|92cd3ec6e2d643d4e...|               26|              63|\n",
      "|b246eeed30b362c09...|               22|              41|\n",
      "|270c23a11d024a44c...|               21|             161|\n",
      "|13aa59158da63ba0e...|               19|             206|\n",
      "+--------------------+-----------------+----------------+\n",
      "only showing top 5 rows\n",
      "\n"
     ]
    }
   ],
   "source": [
    "df_most_loyal_cust = spark.sql(\"\"\"\n",
    "SELECT\n",
    "\tcustomer_id,\n",
    "\tCOUNT(order_id) AS count_transaction,\n",
    "\tROUND(CAST(SUM(payment_value) as NUMERIC), 0) AS transactions_amt\n",
    "FROM (\n",
    "\tSELECT \n",
    "\t\tso.order_id,\n",
    "\t\tso.customer_id,\n",
    "\t\tsop.payment_sequential,\n",
    "\t\tsop.payment_type,\n",
    "\t\tsop.payment_installments,\n",
    "\t\tsop.payment_value\n",
    "\tFROM (\n",
    "\t\tSELECT *\n",
    "\t\tFROM spark_orders\n",
    "\t\tWHERE order_status != 'unavailable' AND order_status != 'canceled'\n",
    "\t) so\n",
    "\tINNER JOIN spark_order_payments sop\n",
    "\tON sop.order_id = so.order_id\n",
    "\tORDER BY sop.order_id\n",
    "\t) trx\n",
    "GROUP BY customer_id, order_id\n",
    "ORDER BY count_transaction DESC, transactions_amt DESC\n",
    "\"\"\")\n",
    "df_most_loyal_cust.show(5)"
   ]
  },
  {
   "cell_type": "code",
   "execution_count": 59,
   "id": "19d8ac7a-5f17-4193-89d5-e8a11280e313",
   "metadata": {},
   "outputs": [
    {
     "name": "stdout",
     "output_type": "stream",
     "text": [
      "+--------------------+-------------+--------------------+--------------------+-------------------+------+-------------+-------------------+----------------+\n",
      "|            order_id|order_item_id|          product_id|           seller_id|shipping_limit_date| price|freight_value| freight_efficiency|freight_category|\n",
      "+--------------------+-------------+--------------------+--------------------+-------------------+------+-------------+-------------------+----------------+\n",
      "|45193dbb3e96a6b68...|            2|a52c53c58fd2105ad...|3b15288545f8928d3...|2017-10-02 16:15:08|106.99|        17.25| 0.1612300214973362|               A|\n",
      "|4519ce49b67354e83...|            1|e09134e776e503444...|6fd52c528dcb38be2...|2018-05-02 02:15:20|129.89|         9.26|0.07129109246285319|               A|\n",
      "|4519d054994236d26...|            1|e7a7e6b2b4959a39a...|2e90cb1677d35cfe2...|2017-04-18 02:45:21| 18.16|        14.52| 0.7995594713656388|               A|\n",
      "|4519e07ee266cdb76...|            1|9a29b754b7fc0aa8e...|0bf0150d5b9d60d9c...|2017-11-30 17:20:33| 106.0|        20.23|0.19084905660377358|               A|\n",
      "|4519eb4d4f3192015...|            1|fde71f25e699ca0a2...|bc2ac6b95e1accce9...|2017-08-25 19:25:17|  61.0|         9.34|0.15311475409836064|               A|\n",
      "+--------------------+-------------+--------------------+--------------------+-------------------+------+-------------+-------------------+----------------+\n",
      "only showing top 5 rows\n",
      "\n"
     ]
    }
   ],
   "source": [
    "df_order_items = df_order_items \\\n",
    "    .withColumn(\"freight_efficiency\", col(\"freight_value\") / col(\"price\")) \\\n",
    "    .withColumn(\"freight_category\",\n",
    "      when((col(\"freight_efficiency\") >= 0) & (col(\"freight_efficiency\") <= 10), \"A\") \\\n",
    "                .when((col(\"freight_efficiency\") >= 11) & (col(\"freight_efficiency\") <= 20), \"B\"))\n",
    "df_order_items.show(5)"
   ]
  },
  {
   "cell_type": "code",
   "execution_count": null,
   "id": "f1d803f2-67ec-45c8-a70a-cb476137b5f1",
   "metadata": {},
   "outputs": [],
   "source": []
  }
 ],
 "metadata": {
  "kernelspec": {
   "display_name": "Python 3 (ipykernel)",
   "language": "python",
   "name": "python3"
  },
  "language_info": {
   "codemirror_mode": {
    "name": "ipython",
    "version": 3
   },
   "file_extension": ".py",
   "mimetype": "text/x-python",
   "name": "python",
   "nbconvert_exporter": "python",
   "pygments_lexer": "ipython3",
   "version": "3.11.4"
  }
 },
 "nbformat": 4,
 "nbformat_minor": 5
}
