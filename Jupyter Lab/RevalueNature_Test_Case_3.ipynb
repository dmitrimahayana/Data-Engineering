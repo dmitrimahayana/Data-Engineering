{
 "cells": [
  {
   "cell_type": "markdown",
   "id": "c3a0a570-abd6-4296-9c05-11c8e15c170c",
   "metadata": {},
   "source": [
    "# Use Case 3 - Documentation"
   ]
  },
  {
   "cell_type": "markdown",
   "id": "1ec7936e-519b-4909-96bf-036a8713b892",
   "metadata": {},
   "source": [
    "## Questions:"
   ]
  },
  {
   "cell_type": "markdown",
   "id": "0777ef70-911d-4c91-a477-1ba5f8d6c739",
   "metadata": {},
   "source": [
    "1. All the interesting things you did in these 2 exercises.\n",
    "2. Your assumptions on the problems and proposed solutions/action plan.\n",
    "3. Biggest challenges of the exercises.\n",
    "4. If the time limit is not enough to finish all the problems, further plan on how to tackle them and how much more time needed."
   ]
  },
  {
   "cell_type": "markdown",
   "id": "83beb5bf-c0b2-4e90-a41e-444f96a47bed",
   "metadata": {},
   "source": [
    "## Answer:"
   ]
  },
  {
   "cell_type": "markdown",
   "id": "16c34cf5-c15b-4bcc-9cf2-6882185bd36d",
   "metadata": {},
   "source": [
    "1. Honestly, google earth is hardest exercise. Because it is my first time using google earth dataset and i think i face too many difficulty like this:\n",
    "   a. Earlier, I am using Intelllij as my IDE but somehow I can't connect to google earth API.\n",
    "   after some research, it seems I need to use Jupyter notebook to allow the browser to pop up for credential\n",
    "   b. Unknown dataformat and metadata. It took me half hour just to move from Intellij to Jupyter and it takes another 2 hours to learn the syntax google earth API.\n",
    "   It is so frustating that I can't even get the logic how to get the area based on specific location in Indonesia.\n",
    "2. a. Assumption for Case 1:\n",
    "       - Google earth should have relation for location from indonesia dataset but i am not sure what is the possibility feature as for now due to limited knowledge\n",
    "       - Assuming I know the metrics, we can join the dataset using location or coordinate because there is no coordinate in Indonesia dataset\n",
    "   b. Assumption and solution for Case 2:\n",
    "       - One file is 1 flight id hence there is no way multiple flight in single file\n",
    "       - All file in json format and located under specific folder\n",
    "       - Normally, I will use Spark to accelerate the computation, but i choose simply dataframe because i just want to make sure at least we can extract the data into proper json format\n",
    "       - Due to limited time of completing exercise, I put maximum number of file which is 10 json to read into dataframe. Some of file unable to get extracted due to data cleansing issue\n",
    "4. Same as point as number 1, google earth is hardest for me (as for now)\n",
    "5. Especially for case google earth, first thing first i need to understand all api syntax (at least really understand how to get metadata and doing query).\n",
    "   After understand the metadata, I will choose the most suitable feature to join with Indonesia dataset.\n",
    "   Assuming I already know dataset relation, query, aggretion, etc, i can solve the use in single day"
   ]
  },
  {
   "cell_type": "code",
   "execution_count": null,
   "id": "357bc025-9a98-4857-919d-995d498a9940",
   "metadata": {},
   "outputs": [],
   "source": []
  }
 ],
 "metadata": {
  "kernelspec": {
   "display_name": "Python 3 (ipykernel)",
   "language": "python",
   "name": "python3"
  },
  "language_info": {
   "codemirror_mode": {
    "name": "ipython",
    "version": 3
   },
   "file_extension": ".py",
   "mimetype": "text/x-python",
   "name": "python",
   "nbconvert_exporter": "python",
   "pygments_lexer": "ipython3",
   "version": "3.9.13"
  }
 },
 "nbformat": 4,
 "nbformat_minor": 5
}
